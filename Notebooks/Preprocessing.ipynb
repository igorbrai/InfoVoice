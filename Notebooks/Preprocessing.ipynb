{
 "cells": [
  {
   "cell_type": "code",
   "execution_count": 1,
   "metadata": {},
   "outputs": [],
   "source": [
    "import pandas as pd\n",
    "import matplotlib.pyplot as plt\n",
    "import csv\n",
    "import os\n",
    "import matplotlib\n",
    "matplotlib.use('Agg') # No pictures displayed \n",
    "import pylab\n",
    "import librosa\n",
    "import librosa.display\n",
    "import numpy as np\n",
    "\n",
    "\n",
    "df = pd.read_csv('train.tsv', sep=\"\\t\" , header=0)"
   ]
  },
  {
   "cell_type": "code",
   "execution_count": 38,
   "metadata": {},
   "outputs": [
    {
     "data": {
      "text/html": [
       "<div>\n",
       "<style scoped>\n",
       "    .dataframe tbody tr th:only-of-type {\n",
       "        vertical-align: middle;\n",
       "    }\n",
       "\n",
       "    .dataframe tbody tr th {\n",
       "        vertical-align: top;\n",
       "    }\n",
       "\n",
       "    .dataframe thead th {\n",
       "        text-align: right;\n",
       "    }\n",
       "</style>\n",
       "<table border=\"1\" class=\"dataframe\">\n",
       "  <thead>\n",
       "    <tr style=\"text-align: right;\">\n",
       "      <th></th>\n",
       "      <th>client_id</th>\n",
       "      <th>path</th>\n",
       "      <th>sentence</th>\n",
       "      <th>up_votes</th>\n",
       "      <th>down_votes</th>\n",
       "      <th>age</th>\n",
       "      <th>gender</th>\n",
       "      <th>accent</th>\n",
       "    </tr>\n",
       "  </thead>\n",
       "  <tbody>\n",
       "    <tr>\n",
       "      <td>102</td>\n",
       "      <td>b7d65328f769972d7c622e2bc5adb5f882b15313f8c848...</td>\n",
       "      <td>common_voice_en_544828.mp3</td>\n",
       "      <td>Why does my bee always come last in the race?</td>\n",
       "      <td>3</td>\n",
       "      <td>0</td>\n",
       "      <td>teens</td>\n",
       "      <td>male</td>\n",
       "      <td>us</td>\n",
       "    </tr>\n",
       "    <tr>\n",
       "      <td>103</td>\n",
       "      <td>b7d65328f769972d7c622e2bc5adb5f882b15313f8c848...</td>\n",
       "      <td>common_voice_en_544830.mp3</td>\n",
       "      <td>I need the weather close-by in Mississippi</td>\n",
       "      <td>2</td>\n",
       "      <td>0</td>\n",
       "      <td>teens</td>\n",
       "      <td>male</td>\n",
       "      <td>us</td>\n",
       "    </tr>\n",
       "    <tr>\n",
       "      <td>108</td>\n",
       "      <td>c6088565cca9ad7c8c109796206b491f0aeb672c57dfa6...</td>\n",
       "      <td>common_voice_en_121231.mp3</td>\n",
       "      <td>A woman is wearing a bright orange and brown s...</td>\n",
       "      <td>3</td>\n",
       "      <td>0</td>\n",
       "      <td>teens</td>\n",
       "      <td>male</td>\n",
       "      <td>us</td>\n",
       "    </tr>\n",
       "    <tr>\n",
       "      <td>109</td>\n",
       "      <td>c6088565cca9ad7c8c109796206b491f0aeb672c57dfa6...</td>\n",
       "      <td>common_voice_en_121232.mp3</td>\n",
       "      <td>Three men sitting in a room looking at their o...</td>\n",
       "      <td>2</td>\n",
       "      <td>0</td>\n",
       "      <td>teens</td>\n",
       "      <td>male</td>\n",
       "      <td>us</td>\n",
       "    </tr>\n",
       "    <tr>\n",
       "      <td>110</td>\n",
       "      <td>c6088565cca9ad7c8c109796206b491f0aeb672c57dfa6...</td>\n",
       "      <td>common_voice_en_121233.mp3</td>\n",
       "      <td>A dog is on a leash by a tree</td>\n",
       "      <td>2</td>\n",
       "      <td>0</td>\n",
       "      <td>teens</td>\n",
       "      <td>male</td>\n",
       "      <td>us</td>\n",
       "    </tr>\n",
       "  </tbody>\n",
       "</table>\n",
       "</div>"
      ],
      "text/plain": [
       "                                             client_id  \\\n",
       "102  b7d65328f769972d7c622e2bc5adb5f882b15313f8c848...   \n",
       "103  b7d65328f769972d7c622e2bc5adb5f882b15313f8c848...   \n",
       "108  c6088565cca9ad7c8c109796206b491f0aeb672c57dfa6...   \n",
       "109  c6088565cca9ad7c8c109796206b491f0aeb672c57dfa6...   \n",
       "110  c6088565cca9ad7c8c109796206b491f0aeb672c57dfa6...   \n",
       "\n",
       "                           path  \\\n",
       "102  common_voice_en_544828.mp3   \n",
       "103  common_voice_en_544830.mp3   \n",
       "108  common_voice_en_121231.mp3   \n",
       "109  common_voice_en_121232.mp3   \n",
       "110  common_voice_en_121233.mp3   \n",
       "\n",
       "                                              sentence  up_votes  down_votes  \\\n",
       "102      Why does my bee always come last in the race?         3           0   \n",
       "103         I need the weather close-by in Mississippi         2           0   \n",
       "108  A woman is wearing a bright orange and brown s...         3           0   \n",
       "109  Three men sitting in a room looking at their o...         2           0   \n",
       "110                      A dog is on a leash by a tree         2           0   \n",
       "\n",
       "       age gender accent  \n",
       "102  teens   male     us  \n",
       "103  teens   male     us  \n",
       "108  teens   male     us  \n",
       "109  teens   male     us  \n",
       "110  teens   male     us  "
      ]
     },
     "execution_count": 38,
     "metadata": {},
     "output_type": "execute_result"
    }
   ],
   "source": [
    "df.head()"
   ]
  },
  {
   "cell_type": "code",
   "execution_count": 2,
   "metadata": {},
   "outputs": [],
   "source": [
    "df = df[df.down_votes == 0]\n",
    "df = df[df.up_votes > 0]\n",
    "df = df.dropna( axis=0, how='any', thresh=None, subset=None, inplace=False)"
   ]
  },
  {
   "cell_type": "code",
   "execution_count": 3,
   "metadata": {},
   "outputs": [],
   "source": [
    "females = df[df.gender == 'female'][:5002]"
   ]
  },
  {
   "cell_type": "code",
   "execution_count": 4,
   "metadata": {},
   "outputs": [],
   "source": [
    "males = df[df.gender == 'male']"
   ]
  },
  {
   "cell_type": "code",
   "execution_count": 5,
   "metadata": {},
   "outputs": [
    {
     "data": {
      "text/plain": [
       "twenties     9523\n",
       "sixties      6632\n",
       "thirties     6408\n",
       "fourties     3926\n",
       "teens        1975\n",
       "fifties      1585\n",
       "seventies     519\n",
       "eighties      165\n",
       "nineties       42\n",
       "Name: age, dtype: int64"
      ]
     },
     "execution_count": 5,
     "metadata": {},
     "output_type": "execute_result"
    }
   ],
   "source": [
    "males['age'].value_counts()"
   ]
  },
  {
   "cell_type": "code",
   "execution_count": 6,
   "metadata": {},
   "outputs": [
    {
     "data": {
      "text/plain": [
       "us             18533\n",
       "england         4464\n",
       "indian          2640\n",
       "australia       2263\n",
       "canada          1270\n",
       "newzealand       514\n",
       "african          300\n",
       "singapore        229\n",
       "philippines      185\n",
       "ireland          183\n",
       "other             90\n",
       "malaysia          56\n",
       "scotland          44\n",
       "wales              2\n",
       "hongkong           2\n",
       "Name: accent, dtype: int64"
      ]
     },
     "execution_count": 6,
     "metadata": {},
     "output_type": "execute_result"
    }
   ],
   "source": [
    "males['accent'].value_counts()"
   ]
  },
  {
   "cell_type": "code",
   "execution_count": 7,
   "metadata": {},
   "outputs": [],
   "source": [
    "teen = males[males.age == 'teens'][:833]"
   ]
  },
  {
   "cell_type": "code",
   "execution_count": 8,
   "metadata": {},
   "outputs": [],
   "source": [
    "twe = males[males.age == 'twenties'][:833]\n",
    "thir = males[males.age == 'thirties'][:833]\n",
    "four = males[males.age == 'fourties'][:833]\n",
    "fif = males[males.age == 'fifties'][:833]\n",
    "six = males[males.age == 'sixties'][:833]"
   ]
  },
  {
   "cell_type": "code",
   "execution_count": 9,
   "metadata": {},
   "outputs": [],
   "source": [
    "clean_men = teen\n",
    "clean_men = clean_men.append([twe,thir,four,fif,six])"
   ]
  },
  {
   "cell_type": "code",
   "execution_count": 10,
   "metadata": {},
   "outputs": [
    {
     "data": {
      "text/plain": [
       "us             2524\n",
       "england        1014\n",
       "australia       456\n",
       "canada          377\n",
       "indian          311\n",
       "african         187\n",
       "philippines      44\n",
       "newzealand       33\n",
       "scotland         29\n",
       "ireland          22\n",
       "other             1\n",
       "Name: accent, dtype: int64"
      ]
     },
     "execution_count": 10,
     "metadata": {},
     "output_type": "execute_result"
    }
   ],
   "source": [
    "clean_men['accent'].value_counts()"
   ]
  },
  {
   "cell_type": "code",
   "execution_count": 11,
   "metadata": {},
   "outputs": [],
   "source": [
    "finalData = females\n",
    "finalData = finalData.append(clean_men)"
   ]
  },
  {
   "cell_type": "code",
   "execution_count": 12,
   "metadata": {},
   "outputs": [
    {
     "data": {
      "text/plain": [
       "thirties    2321\n",
       "twenties    2081\n",
       "sixties     1870\n",
       "fifties     1504\n",
       "fourties    1275\n",
       "teens        949\n",
       "Name: age, dtype: int64"
      ]
     },
     "execution_count": 12,
     "metadata": {},
     "output_type": "execute_result"
    }
   ],
   "source": [
    "finalData['age'].value_counts()"
   ]
  },
  {
   "cell_type": "code",
   "execution_count": 13,
   "metadata": {},
   "outputs": [],
   "source": [
    "finalData = finalData.drop(columns=['client_id', 'sentence','up_votes', 'down_votes'])\n",
    "finalData.to_csv('whole10data.csv')"
   ]
  },
  {
   "cell_type": "code",
   "execution_count": 82,
   "metadata": {},
   "outputs": [],
   "source": [
    "finalData.to_csv('whole10data.csv')"
   ]
  },
  {
   "cell_type": "code",
   "execution_count": 14,
   "metadata": {},
   "outputs": [],
   "source": [
    "with open('clean10dataNoAccent.csv', 'w', newline='') as file:\n",
    "    writer = csv.writer(file)\n",
    "    writer.writerow([ \"Image\", \"Tags\"])\n",
    "    for idx ,i in finalData.iterrows():\n",
    "        writer.writerow([i['path'].replace('.mp3','.jpg'), \"{0} {1}\".format(i['age'],i['gender'])])\n",
    "        "
   ]
  },
  {
   "cell_type": "code",
   "execution_count": null,
   "metadata": {},
   "outputs": [],
   "source": [
    "def make_spectogram(audio_path):\n",
    "    \n",
    "    sig, fs = librosa.load(audio_path)   \n",
    "    # make pictures name \n",
    "    save_path = 'sentiment-spectogram/' + audio_path[16:].replace('.wav','.jpg')\n",
    "\n",
    "    pylab.axis('off') # no axis\n",
    "    pylab.axes([0., 0., 1., 1.], frameon=False, xticks=[], yticks=[]) # Remove the white edge\n",
    "    S = librosa.feature.melspectrogram(y=sig, sr=fs)\n",
    "    librosa.display.specshow(librosa.power_to_db(S, ref=np.max))\n",
    "    pylab.savefig(save_path, bbox_inches=None, pad_inches=0)\n",
    "    pylab.close()"
   ]
  }
 ],
 "metadata": {
  "kernelspec": {
   "display_name": "Python 3",
   "language": "python",
   "name": "python3"
  },
  "language_info": {
   "codemirror_mode": {
    "name": "ipython",
    "version": 3
   },
   "file_extension": ".py",
   "mimetype": "text/x-python",
   "name": "python",
   "nbconvert_exporter": "python",
   "pygments_lexer": "ipython3",
   "version": "3.7.7"
  }
 },
 "nbformat": 4,
 "nbformat_minor": 4
}
